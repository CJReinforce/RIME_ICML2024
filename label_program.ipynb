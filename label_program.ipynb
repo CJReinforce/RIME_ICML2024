{
 "cells": [
  {
   "cell_type": "code",
   "execution_count": 5,
   "metadata": {},
   "outputs": [],
   "source": [
    "import os\n",
    "import numpy as np\n",
    "from time import sleep\n",
    "\n",
    "from IPython.display import Video\n",
    "from IPython.display import HTML\n",
    "\n",
    "# config\n",
    "number_per_session = 10\n",
    "video_path = './human_labeller/video'"
   ]
  },
  {
   "cell_type": "code",
   "execution_count": null,
   "metadata": {},
   "outputs": [],
   "source": [
    "def create_human_label(width=200, height=200):\n",
    "    labels = []\n",
    "    files = sorted(os.listdir(video_path))\n",
    "    prefix = files[-1]\n",
    "        \n",
    "    for i in range(number_per_session):\n",
    "        video_file1 = os.path.join(video_path, prefix, f\"{i}_1.gif\")\n",
    "        video_file2 = os.path.join(video_path, prefix, f\"{i}_2.gif\")\n",
    "\n",
    "        while True:\n",
    "            if not os.path.exists(video_file1) or not os.path.exists(video_file2):\n",
    "                sleep(1)\n",
    "            else:\n",
    "                break\n",
    "        \n",
    "        display(HTML(f'<img src=\"{video_file1}\" width=\"{width}\" height=\"{height}\" loop autoplay>'\n",
    "                 f'&nbsp;'\n",
    "                 f'<img src=\"{video_file2}\" width=\"{width}\" height=\"{height}\" loop autoplay>'))\n",
    "        \n",
    "        reward = input(f\"[{i + 1}/{number_per_session}] Put Preference (0 (left), 1 (right)): \").strip()\n",
    "        if reward in ['0', '1']:\n",
    "            labels.append(reward)\n",
    "        else:\n",
    "            print('Warning! preference label should be in [0, 1]')\n",
    "            labels.append('0')\n",
    "    return labels"
   ]
  },
  {
   "cell_type": "code",
   "execution_count": null,
   "metadata": {
    "tags": []
   },
   "outputs": [],
   "source": [
    "labels = create_human_label()"
   ]
  },
  {
   "cell_type": "code",
   "execution_count": null,
   "metadata": {},
   "outputs": [],
   "source": [
    "print(\" \".join(labels))"
   ]
  }
 ],
 "metadata": {
  "kernelspec": {
   "display_name": "Python 3 (ipykernel)",
   "language": "python",
   "name": "python3"
  },
  "language_info": {
   "codemirror_mode": {
    "name": "ipython",
    "version": 3
   },
   "file_extension": ".py",
   "mimetype": "text/x-python",
   "name": "python",
   "nbconvert_exporter": "python",
   "pygments_lexer": "ipython3",
   "version": "3.9.17"
  },
  "vscode": {
   "interpreter": {
    "hash": "31f2aee4e71d21fbe5cf8b01ff0e069b9275f58929596ceb00d14d90e3e16cd6"
   }
  }
 },
 "nbformat": 4,
 "nbformat_minor": 4
}
